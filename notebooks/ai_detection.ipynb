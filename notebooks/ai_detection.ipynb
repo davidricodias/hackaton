{
 "cells": [
  {
   "cell_type": "code",
   "execution_count": 2,
   "metadata": {},
   "outputs": [
    {
     "data": {
      "application/vnd.jupyter.widget-view+json": {
       "model_id": "17748c8bf8d84bb79b40e1820b54ee9b",
       "version_major": 2,
       "version_minor": 0
      },
      "text/plain": [
       "model.safetensors:   0%|          | 0.00/347M [00:00<?, ?B/s]"
      ]
     },
     "metadata": {},
     "output_type": "display_data"
    },
    {
     "data": {
      "application/vnd.jupyter.widget-view+json": {
       "model_id": "abad9ea208864c68bffd061d94bc5e13",
       "version_major": 2,
       "version_minor": 0
      },
      "text/plain": [
       "preprocessor_config.json:   0%|          | 0.00/337 [00:00<?, ?B/s]"
      ]
     },
     "metadata": {},
     "output_type": "display_data"
    },
    {
     "name": "stderr",
     "output_type": "stream",
     "text": [
      "Using a slow image processor as `use_fast` is unset and a slow processor was saved with this model. `use_fast=True` will be the default behavior in v4.52, even if the model was saved with a slow processor. This will result in minor differences in outputs. You'll still be able to use a slow processor with `use_fast=False`.\n",
      "Device set to use mps:0\n"
     ]
    }
   ],
   "source": [
    "# Use a pipeline as a high-level helper\n",
    "from transformers import pipeline\n",
    "from PIL import Image\n",
    "import os\n",
    "\n",
    "pipe = pipeline(\"image-classification\", model=\"Organika/sdxl-detector\")"
   ]
  },
  {
   "cell_type": "code",
   "execution_count": 16,
   "metadata": {},
   "outputs": [
    {
     "name": "stdout",
     "output_type": "stream",
     "text": [
      "\n",
      "Results for dampness-seepage-8-_jpeg.rf.1de08292adfa478f49609821dc8a4d8f.jpg:\n",
      "[{'label': 'human', 'score': 0.999133288860321}, {'label': 'artificial', 'score': 0.0008667318033985794}]\n"
     ]
    }
   ],
   "source": [
    "image_folder = \"images\"\n",
    "for filename in os.listdir(image_folder):\n",
    "    if filename.lower().endswith((\".png\", \".jpg\", \".jpeg\", \".webp\")):  # Filter image files\n",
    "        image_path = os.path.join(image_folder, filename)\n",
    "        image = Image.open(image_path)\n",
    "\n",
    "        # Run classification\n",
    "        results = pipe(image)\n",
    "\n",
    "        # Print results\n",
    "        print(f\"\\nResults for {filename}:\")\n",
    "        print(results)\n"
   ]
  }
 ],
 "metadata": {
  "kernelspec": {
   "display_name": ".venv",
   "language": "python",
   "name": "python3"
  },
  "language_info": {
   "codemirror_mode": {
    "name": "ipython",
    "version": 3
   },
   "file_extension": ".py",
   "mimetype": "text/x-python",
   "name": "python",
   "nbconvert_exporter": "python",
   "pygments_lexer": "ipython3",
   "version": "3.13.2"
  }
 },
 "nbformat": 4,
 "nbformat_minor": 2
}
